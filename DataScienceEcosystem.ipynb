{
 "cells": [
  {
   "cell_type": "markdown",
   "id": "a3806f12-e4e0-43c3-86db-3a2832245979",
   "metadata": {},
   "source": [
    "# Data Science Tools and Ecosystem"
   ]
  },
  {
   "cell_type": "markdown",
   "id": "9e8c112a-e35c-43dd-b0dd-7b644511348a",
   "metadata": {},
   "source": [
    "In this notebook, Data Science Tools and Ecosystem are summarized."
   ]
  },
  {
   "cell_type": "markdown",
   "id": "54733590-c1ad-493a-be11-c9c0cd2a6a36",
   "metadata": {},
   "source": [
    "**Objectives :**\n",
    "- List popular languages for Data Science\n",
    "- Data science tools\n",
    "- Arithmetic expressions in Python\n"
   ]
  },
  {
   "cell_type": "markdown",
   "id": "53612988-862b-44a5-9d50-fd7f7a4c6c5b",
   "metadata": {},
   "source": [
    "Some of the popular languages that Data Scientists use are:\n",
    "\n",
    "1. python\n",
    "2. R\n",
    "3. SQL"
   ]
  },
  {
   "cell_type": "markdown",
   "id": "3e035f90-d8cc-4c4e-aabf-5da2dc2b5fbd",
   "metadata": {},
   "source": [
    "| Data Science Tools |   \n",
    "|--------------------|\n",
    "| Jupyter Notebooks  |\n",
    "| Zeppelin Notebooks |\n",
    "| R Studio           |"
   ]
  },
  {
   "cell_type": "markdown",
   "id": "33868ad7-a41d-4cc5-82ce-6a5177539046",
   "metadata": {},
   "source": [
    "### Below are a few examples of evaluating arithmetic expressions in Python\n"
   ]
  },
  {
   "cell_type": "code",
   "execution_count": 3,
   "id": "13966a3d-c916-43ac-b203-ca5d56145ef5",
   "metadata": {},
   "outputs": [
    {
     "data": {
      "text/plain": [
       "17"
      ]
     },
     "execution_count": 3,
     "metadata": {},
     "output_type": "execute_result"
    }
   ],
   "source": [
    " #This a simple arithmetic expression to mutiply then add integers.\n",
    "\n",
    "(3*4)+5"
   ]
  },
  {
   "cell_type": "code",
   "execution_count": 4,
   "id": "b8e6c221-0273-42d8-a01d-1af2e72dfc5f",
   "metadata": {},
   "outputs": [
    {
     "data": {
      "text/plain": [
       "3.3333333333333335"
      ]
     },
     "execution_count": 4,
     "metadata": {},
     "output_type": "execute_result"
    }
   ],
   "source": [
    "#This will convert 200 minutes to hours by dividing by 60.\n",
    "200/60"
   ]
  },
  {
   "cell_type": "markdown",
   "id": "e1a198c5-7b65-4d5d-b198-295edff934ef",
   "metadata": {},
   "source": [
    "## Author\n",
    "\n",
    "Justin T Pooniyil"
   ]
  },
  {
   "cell_type": "code",
   "execution_count": null,
   "id": "920cdbbf-3746-4d08-afd3-bf11ad9772a4",
   "metadata": {},
   "outputs": [],
   "source": []
  }
 ],
 "metadata": {
  "kernelspec": {
   "display_name": "Python 3 (ipykernel)",
   "language": "python",
   "name": "python3"
  },
  "language_info": {
   "codemirror_mode": {
    "name": "ipython",
    "version": 3
   },
   "file_extension": ".py",
   "mimetype": "text/x-python",
   "name": "python",
   "nbconvert_exporter": "python",
   "pygments_lexer": "ipython3",
   "version": "3.10.9"
  }
 },
 "nbformat": 4,
 "nbformat_minor": 5
}
